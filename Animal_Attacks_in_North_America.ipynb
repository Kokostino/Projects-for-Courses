{
    "cells": [
        {
            "cell_type": "markdown",
            "metadata": {},
            "source": "# Animal Attacks in North America"
        },
        {
            "cell_type": "code",
            "execution_count": 330,
            "metadata": {},
            "outputs": [],
            "source": "#import packages\nfrom lxml import html\nfrom bs4 import BeautifulSoup\nimport requests\nimport pandas as pd\nimport numpy as np"
        },
        {
            "cell_type": "code",
            "execution_count": 331,
            "metadata": {},
            "outputs": [],
            "source": "#function to get rows in a table\ndef get_table_rows(table):\n    l = []\n    table_rows = table.find_all('tr')\n    for tr in table_rows:\n        td = tr.find_all('td')\n        row = [tr.text for tr in td]\n        l.append(row)\n    return l"
        },
        {
            "cell_type": "code",
            "execution_count": 332,
            "metadata": {},
            "outputs": [],
            "source": "#function to get rows in table after marker\ndef get_rows_table(tables):\n    tb=[]\n    for barbie in tables:\n        tables=barbie.findNext('table')\n        tb.append(tables)\n    l = []\n\n    for table in tb:\n        if table is not None:\n            table_rows = table.find_all('tr')\n            row = []\n            for tr in table_rows:\n                td = tr.find_all('td')\n                row = [tr.text for tr in td]\n                l.append(row)\n    return l"
        },
        {
            "cell_type": "code",
            "execution_count": 333,
            "metadata": {},
            "outputs": [],
            "source": "def get_rows_all_tables(tables):\n    l=[]\n    for tb in tables:\n        table_rows = tb.find_all('tr')\n        for tr in table_rows:\n            td = tr.find_all('td')\n            row = [tr.text for tr in td]\n            l.append(row)\n    return l"
        },
        {
            "cell_type": "code",
            "execution_count": 334,
            "metadata": {},
            "outputs": [],
            "source": "# get all locations hrefs in the n-th column\ndef extract_href_location(tables,n):\n    l=[]\n    for tb in tables:\n        table_rows = tb.find_all('tr')\n        for tr in table_rows:\n            td = tr.find_all('td')\n            row = [tr.text for tr in td]\n            for tt in td:\n                ref=tt.find('a', href=re.compile(r'.*wiki*'))\n                if ref:\n                    title = ref.get('title')\n                    l.append(title)\n                else:\n                    l.append('NaN')\n    return l[n-1::n]"
        },
        {
            "cell_type": "code",
            "execution_count": 335,
            "metadata": {},
            "outputs": [],
            "source": "#install packages\n#!pip install geocoder\n#!pip install folium==0.5.0\n#!conda install -c conda-forge folium=0.5.0 --yes"
        },
        {
            "cell_type": "code",
            "execution_count": 336,
            "metadata": {},
            "outputs": [],
            "source": "#import packages to draw on map\nimport geocoder\nimport folium\nfrom geopy.geocoders import Nominatim"
        },
        {
            "cell_type": "code",
            "execution_count": 337,
            "metadata": {},
            "outputs": [],
            "source": "# create map of North America using latitude and longitude values\naddress = 'Vancouver, BC'\n\ngeolocator = Nominatim(user_agent=\"na_explorer\")\nlocation = geolocator.geocode(address)\nlatitude = location.latitude\nlongitude = location.longitude\nmap_north_america = folium.Map(location=[latitude, longitude], zoom_start=3)\nmap_north_america_pure = map_north_america"
        },
        {
            "cell_type": "code",
            "execution_count": 338,
            "metadata": {},
            "outputs": [],
            "source": "def add_coordinates(table):\n    lat_lng_coords = None\n    latlong=[]\n    for n in range(0,len(table)):\n        g = geocoder.arcgis(table['Location'].values[n])\n        lat_lng_coords = g.latlng\n        latlong.append(lat_lng_coords)\n    laa = np.array(latlong)\n    latitude=laa[:,0].tolist()\n    longitude=laa[:,1].tolist()\n    lat=pd.DataFrame(latitude,columns=['Latitude']) \n    long=pd.DataFrame(longitude,columns=['Longitude']) \n    lulo=pd.concat([lat,long], axis=1)\n    data=pd.concat([table,lulo],axis=1)\n    return data"
        },
        {
            "cell_type": "code",
            "execution_count": 339,
            "metadata": {},
            "outputs": [],
            "source": "def add_to_map(table,colour,fill_colour,map_of):\n    for lat, lng, Loc in zip(table['Latitude'], table['Longitude'], table['Location']):\n        label = '{}'.format(Loc)\n        label = folium.Popup(label, parse_html=True)\n        folium.CircleMarker([lat, lng], radius=3, popup=label, color=colour, fill=True, fill_color=fill_colour, fill_opacity=0.7, parse_html=False).add_to(map_of)\n    return map_of"
        },
        {
            "cell_type": "markdown",
            "metadata": {
                "collapsed": true
            },
            "source": "##  Bear Attacks in North America"
        },
        {
            "cell_type": "markdown",
            "metadata": {},
            "source": "Scrape and Explore Dataset"
        },
        {
            "cell_type": "code",
            "execution_count": 340,
            "metadata": {},
            "outputs": [],
            "source": "r = requests.get(\"https://en.wikipedia.org/wiki/List_of_fatal_bear_attacks_in_North_America\")\nsoup = BeautifulSoup(r.content, \"html.parser\")"
        },
        {
            "cell_type": "code",
            "execution_count": 341,
            "metadata": {
                "scrolled": true
            },
            "outputs": [],
            "source": "dflist=[]\nfor bear_type in (\"Polar\",\"Black\",\"Brown\"):\n    bears=soup.findAll(title=\"Edit section: \"+bear_type+\" bear\")\n    bear=get_rows_table(bears)\n    df=pd.DataFrame(bear, columns=[\"Person\", \"Date\", \"Type\", \"Location\", \"Details\"])\n    df['Bear']=bear_type\n    dflist.append(df)\nall_attacks=pd.concat(dflist).replace(r'\\n',' ', regex=True).dropna().reset_index(drop=True)"
        },
        {
            "cell_type": "code",
            "execution_count": 342,
            "metadata": {},
            "outputs": [],
            "source": "data=add_coordinates(all_attacks)\ndata=data.loc[data['Type']=='Wild'].reset_index(drop=True)\npb=data.loc[data['Bear']=='Polar']\nblb=data.loc[data['Bear']=='Black']\nbrb=data.loc[data['Bear']=='Brown']"
        },
        {
            "cell_type": "code",
            "execution_count": 343,
            "metadata": {},
            "outputs": [],
            "source": "map_bear_attacks=add_to_map(brb,'brown','#3186cc',add_to_map(blb,'black','#3186cc',add_to_map(pb,'blue','#3186cc',map_north_america)))\nmap_bear_attacks;"
        },
        {
            "cell_type": "markdown",
            "metadata": {},
            "source": "# Wolf Attacks"
        },
        {
            "cell_type": "code",
            "execution_count": 344,
            "metadata": {},
            "outputs": [],
            "source": "r = requests.get(\"https://en.wikipedia.org/wiki/List_of_wolf_attacks_in_North_America\")\nsoup = BeautifulSoup(r.content, \"html.parser\")"
        },
        {
            "cell_type": "code",
            "execution_count": 345,
            "metadata": {},
            "outputs": [],
            "source": "fatals=soup.find('table')\ndf=pd.DataFrame(get_table_rows(fatals), columns=[\"Victim(s)\",\"Age\",\"Sex\",\"Date\",\"Type of attack\",\"Location\",\"Details\",\"Source(s)\"])\nftl_wolf_attacks = df.replace(r'\\n',' ', regex=True).dropna().reset_index(drop=True)"
        },
        {
            "cell_type": "code",
            "execution_count": 346,
            "metadata": {},
            "outputs": [],
            "source": "wvs=add_coordinates(ftl_wolf_attacks)"
        },
        {
            "cell_type": "code",
            "execution_count": 347,
            "metadata": {},
            "outputs": [],
            "source": "#add_to_map(wvs,'gray','gray',map_north_america)\nadd_to_map(wvs,'gray','gray',map_north_america_pure);"
        },
        {
            "cell_type": "markdown",
            "metadata": {},
            "source": "# Cougar Attacks"
        },
        {
            "cell_type": "code",
            "execution_count": 348,
            "metadata": {},
            "outputs": [],
            "source": "r = requests.get(\"https://en.wikipedia.org/wiki/List_of_fatal_cougar_attacks_in_North_America\")\nsoup = BeautifulSoup(r.content, \"html.parser\")"
        },
        {
            "cell_type": "code",
            "execution_count": 349,
            "metadata": {},
            "outputs": [],
            "source": "cougars=soup.findAll('table',{\"class\":\"wikitable sortable\"})\n#puma=[x for x in get_table_rows(cougars) if x != []]\npuma=[x for x in get_rows_all_tables(cougars) if x != []]\ncgr_attacks=pd.DataFrame(puma, columns=[\"Name, Age, Gender\", \"Date\",\"Location\"]).replace(r'\\n',' ', regex=True).dropna().reset_index(drop=True)\n#cgr_attacks=df.replace(r'\\n',' ', regex=True).dropna().reset_index(drop=True)"
        },
        {
            "cell_type": "code",
            "execution_count": 350,
            "metadata": {},
            "outputs": [],
            "source": "# Extract Age\n# cgr_attacks['Name, Age, Gender'].str.extract(r'([\\d]+)',expand=False)"
        },
        {
            "cell_type": "code",
            "execution_count": 351,
            "metadata": {},
            "outputs": [],
            "source": "# Overwrite Location with href-Location-data\ncgr_attacks[\"Location\"]=pd.DataFrame(extract_href_location(cougars,3))"
        },
        {
            "cell_type": "code",
            "execution_count": null,
            "metadata": {},
            "outputs": [],
            "source": "cuga=add_coordinates(cgr_attacks)"
        },
        {
            "cell_type": "code",
            "execution_count": null,
            "metadata": {},
            "outputs": [],
            "source": "add_to_map(cuga,'yellow','gray',map_north_america)"
        },
        {
            "cell_type": "markdown",
            "metadata": {},
            "source": "# Snake bites in the US"
        },
        {
            "cell_type": "code",
            "execution_count": null,
            "metadata": {},
            "outputs": [],
            "source": "r = requests.get(\"https://en.wikipedia.org/wiki/List_of_fatal_snake_bites_in_the_United_States\")\nsoup = BeautifulSoup(r.content, \"html.parser\")"
        },
        {
            "cell_type": "markdown",
            "metadata": {},
            "source": "# Clean Map\n## Erase coordinates outside of North America"
        }
    ],
    "metadata": {
        "kernelspec": {
            "display_name": "Python 3.7",
            "language": "python",
            "name": "python3"
        },
        "language_info": {
            "codemirror_mode": {
                "name": "ipython",
                "version": 3
            },
            "file_extension": ".py",
            "mimetype": "text/x-python",
            "name": "python",
            "nbconvert_exporter": "python",
            "pygments_lexer": "ipython3",
            "version": "3.7.10"
        }
    },
    "nbformat": 4,
    "nbformat_minor": 1
}